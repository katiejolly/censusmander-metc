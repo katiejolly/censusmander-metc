{
 "cells": [
  {
   "cell_type": "code",
   "execution_count": 1,
   "metadata": {
    "collapsed": false
   },
   "outputs": [],
   "source": [
    "%matplotlib inline\n",
    "import pysal\n",
    "import numpy as np\n",
    "import random\n",
    "import geopandas as gp\n",
    "import acs_regionalization as ACS"
   ]
  },
  {
   "cell_type": "code",
   "execution_count": 2,
   "metadata": {
    "collapsed": false
   },
   "outputs": [],
   "source": [
    "# read in estimates and standard errors\n",
    "ests = np.genfromtxt('example_data/99999_a225_p9_pop9999_k3_j0_est.csv', delimiter=',')\n",
    "sdes = np.genfromtxt('example_data/99999_a225_p9_pop9999_k3_j0_stdErr.csv', delimiter=',')\n",
    "# build the spatial connectivity\n",
    "shp = pysal.open('example_data/99999_225.shp')    \n",
    "w = pysal.rook_from_shapefile('example_data/99999_225.shp')\n",
    "# convert standard error to margin of error\n",
    "moes = sdes * 1.645"
   ]
  },
  {
   "cell_type": "code",
   "execution_count": 3,
   "metadata": {
    "collapsed": false
   },
   "outputs": [
    {
     "data": {
      "text/plain": [
       "[]"
      ]
     },
     "execution_count": 3,
     "metadata": {},
     "output_type": "execute_result"
    },
    {
     "data": {
      "image/png": "[encoded data removed]",
      "text/plain": [
       "<matplotlib.figure.Figure at 0x110718bd0>"
      ]
     },
     "metadata": {},
     "output_type": "display_data"
    }
   ],
   "source": [
    "# take a look at the map\n",
    "shp_map = gp.read_file('example_data/99999_225.shp')\n",
    "shp_map['constant'] = 1\n",
    "p = shp_map.plot('constant', alpha=0.5, colormap='winter')\n",
    "p.axis('off')\n",
    "p.plot()"
   ]
  },
  {
   "cell_type": "code",
   "execution_count": 4,
   "metadata": {
    "collapsed": false
   },
   "outputs": [
    {
     "data": {
      "text/plain": [
       "[]"
      ]
     },
     "execution_count": 4,
     "metadata": {},
     "output_type": "execute_result"
    },
    {
     "data": {
      "image/png": "[encoded data removed]",
      "text/plain": [
       "<matplotlib.figure.Figure at 0x1106fe850>"
      ]
     },
     "metadata": {},
     "output_type": "display_data"
    }
   ],
   "source": [
    "# since this is a \"toy\" example, we built the data with a \"true\" map in mind\n",
    "# these are the regions in the true map\n",
    "p = shp_map.plot('region', alpha=1, colormap='Dark2')\n",
    "p.axis('off')\n",
    "p.plot()"
   ]
  },
  {
   "cell_type": "code",
   "execution_count": 6,
   "metadata": {
    "collapsed": false
   },
   "outputs": [],
   "source": [
    "# set some seeds to get the same solution each time\n",
    "start_seed = 5009\n",
    "random.seed(start_seed)\n",
    "np.random.seed(start_seed)\n",
    "# run the regionalization algorithm\n",
    "results = ACS.ACS_Regions(w=w,\n",
    "                          target_est_count=ests[:,3:],\n",
    "                          target_moe_count=moes[:,3:], \n",
    "                          target_th_all=0.15,\n",
    "                          count_est=ests[:,2],\n",
    "                          count_th_min=46000,\n",
    "                          base_solutions=100,\n",
    "                          pca=False,\n",
    "                          compactness=shp)"
   ]
  },
  {
   "cell_type": "code",
   "execution_count": 7,
   "metadata": {
    "collapsed": false
   },
   "outputs": [
    {
     "data": {
      "text/plain": [
       "[]"
      ]
     },
     "execution_count": 7,
     "metadata": {},
     "output_type": "execute_result"
    },
    {
     "data": {
      "image/png": "[encoded data removed]",
      "text/plain": [
       "<matplotlib.figure.Figure at 0x116ae6d10>"
      ]
     },
     "metadata": {},
     "output_type": "display_data"
    }
   ],
   "source": [
    "# we can plot the results\n",
    "# note that the shapes of the regions found by the algorithm match the\n",
    "# \"true\" regions;(the color arrangement is different simply because the\n",
    "# algorithm assigned region IDs randomly)  \n",
    "shp_map['rids'] = results.region_ids\n",
    "p = shp_map.plot('rids', alpha=1, colormap='Dark2')\n",
    "p.axis('off')\n",
    "p.plot()"
   ]
  }
 ],
 "metadata": {
  "kernelspec": {
   "display_name": "Python 2",
   "language": "python",
   "name": "python2"
  },
  "language_info": {
   "codemirror_mode": {
    "name": "ipython",
    "version": 2
   },
   "file_extension": ".py",
   "mimetype": "text/x-python",
   "name": "python",
   "nbconvert_exporter": "python",
   "pygments_lexer": "ipython2",
   "version": "2.7.6"
  }
 },
 "nbformat": 4,
 "nbformat_minor": 0
}
