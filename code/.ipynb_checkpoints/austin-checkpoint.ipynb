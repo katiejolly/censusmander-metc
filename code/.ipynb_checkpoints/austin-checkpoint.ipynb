{
 "cells": [
  {
   "cell_type": "markdown",
   "metadata": {},
   "source": [
    "## Load Libraries and Setup"
   ]
  },
  {
   "cell_type": "code",
   "execution_count": null,
   "metadata": {},
   "outputs": [],
   "source": [
    "%matplotlib inline\n",
    "import pysal as ps\n",
    "import numpy as np\n",
    "import pandas as pd\n",
    "import geopandas as gp\n",
    "import shapely\n",
    "import copy\n",
    "import random\n",
    "import acs_regionalization as ACS\n",
    "import matplotlib.pyplot as plt\n",
    "from pylab import rcParams\n",
    "rcParams['figure.figsize'] = 20,20  #set the default map size\n",
    "#rcParams['patch.linewidth'] = 0.5  #set default polygon line width\n"
   ]
  },
  {
   "cell_type": "markdown",
   "metadata": {},
   "source": [
    "## Spatial Data"
   ]
  },
  {
   "cell_type": "code",
   "execution_count": null,
   "metadata": {},
   "outputs": [],
   "source": [
    "# read in the Austin shapefile and plot it   \n",
    "shp_map = gp.read_file('example_data/12420.shp')\n",
    "shp_map['constant'] = 1\n",
    "p = shp_map.plot('constant', alpha=0.5, cmap='winter')\n",
    "p.axis('off')\n",
    "p.plot()"
   ]
  },
  {
   "cell_type": "code",
   "execution_count": null,
   "metadata": {},
   "outputs": [],
   "source": [
    "# read spatial data into python and run some diagnostics\n",
    "w = ps.rook_from_shapefile('example_data/12420.shp', idVariable='GEOID10')\n",
    "print w.n   # number of census tracts"
   ]
  },
  {
   "cell_type": "code",
   "execution_count": null,
   "metadata": {},
   "outputs": [],
   "source": [
    "# summary of the connectivity structure of the Austin census tracts\n",
    "w_hist_data = np.array(w.histogram)\n",
    "fig, ax = plt.subplots(figsize=(5,5))\n",
    "ax.bar(w_hist_data[:,0], w_hist_data[:,1], align='center', width=1)\n",
    "ax.set_xlabel('number of neighbors')\n",
    "ax.set_ylabel('number of tracts')\n",
    "# shows, for example, that 15 tracts have 8 neighbors"
   ]
  },
  {
   "cell_type": "markdown",
   "metadata": {},
   "source": [
    "We recommend excluding census tracts that do not contain households.  These tend to be large parks, bodies of water, employment centers and institutional living situations. The algorithm will not crash if they are included, but they tend to contain missing and atypical demographic data, and therefore may get grouped arbitrarily with the more typical tracts that surround them. Austin has three census tracts with zero households: two include the airport and the third is the 95 acre [Austin State Supported Living Center](https://www.dads.state.tx.us/services/SSLC/austin.html)."
   ]
  },
  {
   "cell_type": "code",
   "execution_count": null,
   "metadata": {},
   "outputs": [],
   "source": [
    "# read in list of census tracts to exclude\n",
    "exclude = open('example_data/all_exclude_12420.csv')\n",
    "exclude = exclude.readline()\n",
    "exclude = exclude.replace('g','')\n",
    "exclude = exclude.split(',')\n",
    "print exclude"
   ]
  },
  {
   "cell_type": "markdown",
   "metadata": {},
   "source": [
    "## Attribute Data"
   ]
  },
  {
   "cell_type": "markdown",
   "metadata": {},
   "source": [
    "ACS data can be download directly from the USCB's [American Factfinder](http://factfinder2.census.gov) website or from places like [NHGIS](https://www.nhgis.org) or [Social Explorer](http://www.socialexplorer.com).  The USCB and NHGIS provide a margin or error (MOE) with each estimate, while Social Explorer converts these into standard errors.  See the appendix of the USCB's [ACS documentation](http://www.census.gov/acs/www/Downloads/handbooks/ACSResearch.pdf) for the conversion between MOE and standard error.  The data used below comes from Social Explorer."
   ]
  },
  {
   "cell_type": "code",
   "execution_count": null,
   "metadata": {},
   "outputs": [],
   "source": [
    "# read in the ACS estimates and standard errors\n",
    "population = pd.read_csv('example_data/all_count_est_12420.csv', index_col=0)\n",
    "\n",
    "est_prop = pd.read_csv('example_data/transportation_prop_est_12420.csv', index_col=0)\n",
    "std_prop = pd.read_csv('example_data/transportation_prop_stdErr_12420.csv', index_col=0)\n",
    "moe_prop = std_prop * 1.65  # Social Explorer data is converted using 1.65 instead of the more common 1.645\n",
    "prop_names = open('example_data/transportation_prop.csv')\n",
    "prop_names = prop_names.readline().split(',')\n",
    "\n",
    "est_ratio = pd.read_csv('example_data/transportation_ratio_est_12420.csv', index_col=0)\n",
    "std_ratio = pd.read_csv('example_data/transportation_ratio_stdErr_12420.csv', index_col=0)\n",
    "moe_ratio = std_ratio * 1.65  # Social Explorer data is converted using 1.65 instead of the more common 1.645\n",
    "ratio_names = open('example_data/transportation_ratio.csv')\n",
    "ratio_names = ratio_names.readline().split(',')"
   ]
  },
  {
   "cell_type": "markdown",
   "metadata": {},
   "source": [
    "The regionalization algorithm uses the coefficient of variation as the uncertainty metric. The coefficient of variation (CV) is the standard error of the estimate divided by the estimate itself.  The CV therefore gives a standardized measure of uncertainty that can be interpreted as the share of the estimate that the error represents---higher CV implies greater uncertainty.\n",
    "\n",
    "While the CV is easy to compute on variables measured in levels (e.g. the count of Hispanic residents), it is more complicated for \"derived\" variables. Derived variables include proportions, i.e. when the numerator is a subset of the denominator (e.g. share of the total population that is Hispanic), and ratios, i.e. when the numerator and denominator do not overlap (e.g. average household income, which is computed as aggregate household income divided by total households). Each of these three cases require a different equation, and therefore the raw data needs to be split by case before passing it to the algorithm.  See Appendix 3 of the USCB's [ACS documentation](http://www.census.gov/acs/www/Downloads/handbooks/ACSResearch.pdf) for all the equations.\n",
    "\n",
    "Since the goal of the algorithm is to combine geographies together, these ratio and proportion data must be split into numerator and denominator.  For example, the only way to accurately compute the average household income on a combination of two geographies is to sum the two numerators, sum the two denominators, and then divide the two sums.  "
   ]
  },
  {
   "cell_type": "code",
   "execution_count": null,
   "metadata": {},
   "outputs": [],
   "source": [
    "# ratio and proportion data is organized as numerator-denominator pairs\n",
    "print ratio_names\n",
    "print est_ratio.columns  # names of the numerators and denominators\n",
    "print '\\nthe numerator of %s is %s, and the denominator is %s'%(ratio_names[1], est_ratio.columns[2], est_ratio.columns[3])\n",
    "print 'the numerator of %s is %s, and the denominator is %s'%(prop_names[0], est_prop.columns[0], est_prop.columns[1])"
   ]
  },
  {
   "cell_type": "markdown",
   "metadata": {},
   "source": [
    "## Model Parameters"
   ]
  },
  {
   "cell_type": "markdown",
   "metadata": {},
   "source": [
    "__Uncertainty__: The most important parameter is the uncertainty threshold, which is measured by the coefficient of variation (CV). A [National Research Council report](http://www.nap.edu/catalog/11901.html) advises keeping the CV below 0.12, but also states \"what constitutes an acceptable level of precision for a survey estimate depends on the uses to be made of the estimate\" (p.67).  This is set using the `target_th_all` parameter. \n",
    "\n",
    "__Data standardization__: For heterogeneous datasets, like those typically drawn from the ACS, we recommend transforming the data using z-scores to get all the attributes on the same scale, and then running principle components analysis (PCA) on these standardized variables to remove any potential correlation between the attributes. The algorithm will do this automatically unless the `zscore` and `pca` parameters are set to `False`. Note that these transformed variables are only used for determining the heterogeneity of the region, feasibility (i.e. the uncertainty threshold) uses the raw data.\n",
    "\n",
    "__Compactness__: If a shapefile is passed to the `compactness` parameter of the algorithm, then a compactness measure will be returned for each of the regions. The [isoperimetric quotient](http://en.wikipedia.org/wiki/Isoperimetric_inequality) is used to compute compactness.\n",
    "\n",
    "__Small values__: Very small proportions tend to result in unstable and large CVs. These high CVs in turn force these census tracts to combine with an unnecessarily large number of other tracts to accommodate these small estimate values.  For example, rural areas generally have limited access to transit, resulting low values for transit usage and thus artificially high CVs. We recommend setting the `cv_exclude_prop` parameter to 0.05, which will ignore the CV threshold for proportion variables below 5%.  See the [National Research Council report](http://www.nap.edu/catalog/11901.html) (p.67,72) for more on this.  "
   ]
  },
  {
   "cell_type": "markdown",
   "metadata": {},
   "source": [
    "## Running the Algorithm"
   ]
  },
  {
   "cell_type": "markdown",
   "metadata": {},
   "source": [
    "Note: The code may return some \"FutureWarnings\", these can be ignored."
   ]
  },
  {
   "cell_type": "code",
   "execution_count": null,
   "metadata": {},
   "outputs": [],
   "source": [
    "# this may take up to four minutes to run depending on hardware speed\n",
    "shp = ps.open('example_data/12420.shp')\n",
    "random.seed(789)     # to ensure we get the same solution each time\n",
    "np.random.seed(789)  # to ensure we get the same solution each time\n",
    "results = ACS.ACS_Regions(w=w,\\\n",
    "                          target_est_prop=est_prop.values,\\\n",
    "                          target_moe_prop=moe_prop.values,\\\n",
    "                          target_est_ratio=est_ratio.values,\\\n",
    "                          target_moe_ratio=moe_ratio.values,\\\n",
    "                          count_est=population.values,\\\n",
    "                          target_th_all=0.05,\\\n",
    "                          exclude=exclude,\\\n",
    "                          compactness=shp,\\\n",
    "                          cv_exclude_prop=0.05)\n",
    "print 'regionalization finished'"
   ]
  },
  {
   "cell_type": "code",
   "execution_count": null,
   "metadata": {},
   "outputs": [],
   "source": [
    "# some basic diagnostics on the solution\n",
    "print 'number of regions:', len(results.regions)\n",
    "print 'total time (seconds):', results.time['total']"
   ]
  },
  {
   "cell_type": "code",
   "execution_count": null,
   "metadata": {},
   "outputs": [],
   "source": [
    "# We'll make a few side-by-side plots. This code wraps the setup into a function.\n",
    "def two_plot_setup():\n",
    "    fig, axes = plt.subplots(nrows=1, ncols=2, figsize=(40,40))\n",
    "    axes[0].set_aspect('equal')\n",
    "    axes[1].set_aspect('equal')\n",
    "    axes[0].axis('off')\n",
    "    axes[1].axis('off')\n",
    "    return fig, axes"
   ]
  },
  {
   "cell_type": "markdown",
   "metadata": {},
   "source": [
    "Plot the solution.  On the left are the tracts colored by region, on the right are the regions."
   ]
  },
  {
   "cell_type": "code",
   "execution_count": null,
   "metadata": {},
   "outputs": [],
   "source": [
    "fig, axes = two_plot_setup()\n",
    "\n",
    "# color tracts based on region ID\n",
    "rids = copy.copy(results.region_ids)\n",
    "shp_map['rids'] = rids\n",
    "shp_map.plot('rids', categorical=True, alpha=1, colormap='Dark2', axes=axes[0])\n",
    "\n",
    "# disolve the tracts into regions\n",
    "region_groups = shp_map.groupby('rids')\n",
    "region_map = gp.GeoDataFrame(index=region_groups.indices.keys())\n",
    "region_map['rids'] = region_groups.indices.keys()\n",
    "region_map['geometry'] = region_groups.geometry.apply(shapely.ops.unary_union)\n",
    "region_map.plot('rids', categorical=True, alpha=1, colormap='Dark2', axes=axes[1])"
   ]
  },
  {
   "cell_type": "markdown",
   "metadata": {},
   "source": [
    "## Average Commute Time"
   ]
  },
  {
   "cell_type": "markdown",
   "metadata": {},
   "source": [
    "We now analyze the \"before and after\" situation for one of the four variables in terms of the estimates and the uncertainty."
   ]
  },
  {
   "cell_type": "code",
   "execution_count": null,
   "metadata": {},
   "outputs": [],
   "source": [
    "# pull the data to plot from the algorithm output\n",
    "print prop_names, ratio_names  # actual attribute names\n",
    "print results.ests_area.columns.values  # generic attribute names generated by algorithm\n",
    "ests_area = results.ests_area.ratio_var1\n",
    "ests_region = results.ests_region.ratio_var1\n",
    "cvs_area = results.cvs_area.ratio_var1\n",
    "cvs_region = results.cvs_region.ratio_var1\n",
    "#%R -i ests_area,ests_region,cvs_area,cvs_region"
   ]
  },
  {
   "cell_type": "code",
   "execution_count": null,
   "metadata": {},
   "outputs": [],
   "source": [
    "# Function to provide finer grained control for the legend on geopandas plots. Based on:\n",
    "# http://nbviewer.ipython.org/gist/jorisvandenbossche/d4e6efedfa1e4e91ab65\n",
    "def add_legend(labels, alpha, colormap, data, plot, loc):\n",
    "    labs = copy.copy(labels)\n",
    "    labs.append(np.nan)\n",
    "    valuemap = dict([(k, v) for (v, k) in enumerate(labs)])\n",
    "    values = [valuemap[k] for k in data]\n",
    "    cmap = gp.plotting.norm_cmap(values, colormap, plt.Normalize, plt.cm)\n",
    "    patches = []\n",
    "    for value, cat in enumerate(labs):\n",
    "        patches.append(plt.Line2D([0], [0], linestyle=\"none\",\n",
    "                       marker=\"o\", alpha=alpha,\n",
    "                       markersize=20, markerfacecolor=cmap.to_rgba(value)))\n",
    "    plot.legend(patches, labels, numpoints=1, loc=loc, prop={'size':30})"
   ]
  },
  {
   "cell_type": "markdown",
   "metadata": {},
   "source": [
    "In the following cell we plot the initial average commute time data for all the census tracts, and then plot the same attribute for the regions.  Note that the map of regions maintains the same general spatial pattern as that in the tract data.  In other words, the algorithm has not \"broken the map.\"  "
   ]
  },
  {
   "cell_type": "code",
   "execution_count": null,
   "metadata": {},
   "outputs": [],
   "source": [
    "fig, axes = two_plot_setup()\n",
    "\n",
    "# setup the choropleth breaks and labels\n",
    "breaks = [13,21,23,25,27,30,46]\n",
    "labels = [str(breaks[i])+'-'+str(breaks[i+1]) for i in range(len(breaks)-1)]\n",
    "alpha = 0.9\n",
    "colormap = 'YlGnBu'\n",
    "\n",
    "# choropleth map of the input data (tracts)\n",
    "shp_map['ests_interval'] = pd.cut(ests_area, breaks, right=False, labels=labels)\n",
    "p = shp_map.plot('ests_interval', categorical=True, alpha=alpha, colormap=colormap, axes=axes[0])\n",
    "add_legend(labels, alpha, colormap, shp_map.ests_interval, p, 'upper left')\n",
    "\n",
    "# choropleth map of the output data (regions)\n",
    "region_map['ests_interval'] = pd.cut(ests_region, breaks, right=False, labels=labels)\n",
    "p1 = region_map.plot('ests_interval', categorical=True, alpha=alpha, colormap=colormap, axes=axes[1])\n",
    "add_legend(labels, alpha, colormap, region_map.ests_interval, p1, 'upper right')\n",
    "\n",
    "print \"CV counts for census tracts\\n\", shp_map.ests_interval.value_counts(sort=False)\n",
    "print \"CV counts for regions\\n\", region_map.ests_interval.value_counts(sort=False)"
   ]
  },
  {
   "cell_type": "markdown",
   "metadata": {},
   "source": [
    "Now we plot the uncertainty on the tract data and the region data.  We set the uncertainty threshold to the relatively restrictive 0.05 level for pedagogic purposes.  For the original data, none of the tracts meet this threshold (i.e. none are the lightest color).  However, all the regions in the map on the right do meet the threshold. The algorithm has therefore improved the data quality."
   ]
  },
  {
   "cell_type": "code",
   "execution_count": null,
   "metadata": {},
   "outputs": [],
   "source": [
    "'''\n",
    "When plotting a choropleth map, geopandas searches for the number of \n",
    "unique categories and bases the plot on those. For the example below, \n",
    "we need both plots to have the same set of categories. This function \n",
    "provides a less than ideal workaround by adding a fake geometry for \n",
    "each possible category. The fake geometries are not plotted.\n",
    "'''\n",
    "def add_all_categories(df, labels):\n",
    "    df_temp = df.copy(deep=True)\n",
    "    for idx, label in enumerate(labels):\n",
    "        df_temp.loc[idx+1000] = 'empty'\n",
    "        df_temp.loc[idx+1000,'geometry'] = shapely.geometry.Polygon()\n",
    "        df_temp.loc[idx+1000,'cvs_interval'] = label\n",
    "    df_temp = df_temp[df_temp.rids >= 0]  # clear out the excluded areas\n",
    "    return df_temp"
   ]
  },
  {
   "cell_type": "code",
   "execution_count": null,
   "metadata": {},
   "outputs": [],
   "source": [
    "fig, axes = two_plot_setup()\n",
    "\n",
    "# setup the choropleth breaks and labels\n",
    "breaks = [0,0.05,0.1,0.15,0.2,0.25,0.30,np.Inf]\n",
    "labels = [str(breaks[i])+'-'+str(breaks[i+1]) for i in range(len(breaks)-1)]\n",
    "alpha = 0.9\n",
    "colormap = 'YlGn'\n",
    "\n",
    "# choropleth map of the input data (tracts)\n",
    "shp_map['cvs_interval'] = pd.cut(cvs_area, breaks, right=False, labels=labels)\n",
    "shp_map_temp = add_all_categories(shp_map, labels)\n",
    "p = shp_map_temp.plot('cvs_interval', categorical=True, alpha=alpha, colormap=colormap, axes=axes[0])\n",
    "add_legend(labels, alpha, colormap, shp_map_temp.cvs_interval, p, 'upper left')\n",
    "\n",
    "# choropleth map of the output data (regions)\n",
    "region_map['cvs_interval'] = pd.cut(cvs_region, breaks, right=False, labels=labels)\n",
    "region_map_temp = add_all_categories(region_map, labels)\n",
    "p1 = region_map_temp.plot('cvs_interval', categorical=True, alpha=alpha, colormap=colormap, axes=axes[1])\n",
    "add_legend(labels, alpha, colormap, region_map_temp.cvs_interval, p1, 'upper right')\n",
    "\n",
    "print \"CV counts for census tracts\\n\", shp_map.cvs_interval.value_counts(sort=False)\n",
    "print \"CV counts for regions\\n\", region_map.cvs_interval.value_counts(sort=False)"
   ]
  }
 ],
 "metadata": {
  "kernelspec": {
   "display_name": "Python 2",
   "language": "python",
   "name": "python2"
  },
  "language_info": {
   "codemirror_mode": {
    "name": "ipython",
    "version": 2
   },
   "file_extension": ".py",
   "mimetype": "text/x-python",
   "name": "python",
   "nbconvert_exporter": "python",
   "pygments_lexer": "ipython2",
   "version": "2.7.16"
  }
 },
 "nbformat": 4,
 "nbformat_minor": 1
}
